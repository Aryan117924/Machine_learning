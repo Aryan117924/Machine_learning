{
 "cells": [
  {
   "cell_type": "code",
   "execution_count": 1,
   "id": "72c7a6f2-7c93-454d-836e-fa2c6445971d",
   "metadata": {},
   "outputs": [
    {
     "name": "stdout",
     "output_type": "stream",
     "text": [
      "Requirement already satisfied: langchain-huggingface in c:\\users\\hp\\anaconda3\\envs\\genai\\lib\\site-packages (1.0.0)\n",
      "Requirement already satisfied: huggingface-hub<1.0.0,>=0.33.4 in c:\\users\\hp\\anaconda3\\envs\\genai\\lib\\site-packages (from langchain-huggingface) (0.36.0)\n",
      "Requirement already satisfied: langchain-core<2.0.0,>=1.0.0 in c:\\users\\hp\\anaconda3\\envs\\genai\\lib\\site-packages (from langchain-huggingface) (1.0.0)\n",
      "Requirement already satisfied: tokenizers<1.0.0,>=0.19.1 in c:\\users\\hp\\anaconda3\\envs\\genai\\lib\\site-packages (from langchain-huggingface) (0.22.1)\n",
      "Requirement already satisfied: filelock in c:\\users\\hp\\anaconda3\\envs\\genai\\lib\\site-packages (from huggingface-hub<1.0.0,>=0.33.4->langchain-huggingface) (3.20.0)\n",
      "Requirement already satisfied: fsspec>=2023.5.0 in c:\\users\\hp\\anaconda3\\envs\\genai\\lib\\site-packages (from huggingface-hub<1.0.0,>=0.33.4->langchain-huggingface) (2025.9.0)\n",
      "Requirement already satisfied: packaging>=20.9 in c:\\users\\hp\\anaconda3\\envs\\genai\\lib\\site-packages (from huggingface-hub<1.0.0,>=0.33.4->langchain-huggingface) (23.2)\n",
      "Requirement already satisfied: pyyaml>=5.1 in c:\\users\\hp\\anaconda3\\envs\\genai\\lib\\site-packages (from huggingface-hub<1.0.0,>=0.33.4->langchain-huggingface) (6.0.2)\n",
      "Requirement already satisfied: requests in c:\\users\\hp\\anaconda3\\envs\\genai\\lib\\site-packages (from huggingface-hub<1.0.0,>=0.33.4->langchain-huggingface) (2.32.5)\n",
      "Requirement already satisfied: tqdm>=4.42.1 in c:\\users\\hp\\anaconda3\\envs\\genai\\lib\\site-packages (from huggingface-hub<1.0.0,>=0.33.4->langchain-huggingface) (4.67.1)\n",
      "Requirement already satisfied: typing-extensions>=3.7.4.3 in c:\\users\\hp\\anaconda3\\envs\\genai\\lib\\site-packages (from huggingface-hub<1.0.0,>=0.33.4->langchain-huggingface) (4.15.0)\n",
      "Requirement already satisfied: jsonpatch<2.0.0,>=1.33.0 in c:\\users\\hp\\anaconda3\\envs\\genai\\lib\\site-packages (from langchain-core<2.0.0,>=1.0.0->langchain-huggingface) (1.33)\n",
      "Requirement already satisfied: langsmith<1.0.0,>=0.3.45 in c:\\users\\hp\\anaconda3\\envs\\genai\\lib\\site-packages (from langchain-core<2.0.0,>=1.0.0->langchain-huggingface) (0.4.38)\n",
      "Requirement already satisfied: pydantic<3.0.0,>=2.7.4 in c:\\users\\hp\\anaconda3\\envs\\genai\\lib\\site-packages (from langchain-core<2.0.0,>=1.0.0->langchain-huggingface) (2.12.3)\n",
      "Requirement already satisfied: tenacity!=8.4.0,<10.0.0,>=8.1.0 in c:\\users\\hp\\anaconda3\\envs\\genai\\lib\\site-packages (from langchain-core<2.0.0,>=1.0.0->langchain-huggingface) (8.5.0)\n",
      "Requirement already satisfied: jsonpointer>=1.9 in c:\\users\\hp\\anaconda3\\envs\\genai\\lib\\site-packages (from jsonpatch<2.0.0,>=1.33.0->langchain-core<2.0.0,>=1.0.0->langchain-huggingface) (3.0.0)\n",
      "Requirement already satisfied: httpx<1,>=0.23.0 in c:\\users\\hp\\anaconda3\\envs\\genai\\lib\\site-packages (from langsmith<1.0.0,>=0.3.45->langchain-core<2.0.0,>=1.0.0->langchain-huggingface) (0.28.1)\n",
      "Requirement already satisfied: orjson>=3.9.14 in c:\\users\\hp\\anaconda3\\envs\\genai\\lib\\site-packages (from langsmith<1.0.0,>=0.3.45->langchain-core<2.0.0,>=1.0.0->langchain-huggingface) (3.11.3)\n",
      "Requirement already satisfied: requests-toolbelt>=1.0.0 in c:\\users\\hp\\anaconda3\\envs\\genai\\lib\\site-packages (from langsmith<1.0.0,>=0.3.45->langchain-core<2.0.0,>=1.0.0->langchain-huggingface) (1.0.0)\n",
      "Requirement already satisfied: zstandard>=0.23.0 in c:\\users\\hp\\anaconda3\\envs\\genai\\lib\\site-packages (from langsmith<1.0.0,>=0.3.45->langchain-core<2.0.0,>=1.0.0->langchain-huggingface) (0.25.0)\n",
      "Requirement already satisfied: anyio in c:\\users\\hp\\anaconda3\\envs\\genai\\lib\\site-packages (from httpx<1,>=0.23.0->langsmith<1.0.0,>=0.3.45->langchain-core<2.0.0,>=1.0.0->langchain-huggingface) (4.10.0)\n",
      "Requirement already satisfied: certifi in c:\\users\\hp\\anaconda3\\envs\\genai\\lib\\site-packages (from httpx<1,>=0.23.0->langsmith<1.0.0,>=0.3.45->langchain-core<2.0.0,>=1.0.0->langchain-huggingface) (2025.10.5)\n",
      "Requirement already satisfied: httpcore==1.* in c:\\users\\hp\\anaconda3\\envs\\genai\\lib\\site-packages (from httpx<1,>=0.23.0->langsmith<1.0.0,>=0.3.45->langchain-core<2.0.0,>=1.0.0->langchain-huggingface) (1.0.9)\n",
      "Requirement already satisfied: idna in c:\\users\\hp\\anaconda3\\envs\\genai\\lib\\site-packages (from httpx<1,>=0.23.0->langsmith<1.0.0,>=0.3.45->langchain-core<2.0.0,>=1.0.0->langchain-huggingface) (3.7)\n",
      "Requirement already satisfied: h11>=0.16 in c:\\users\\hp\\anaconda3\\envs\\genai\\lib\\site-packages (from httpcore==1.*->httpx<1,>=0.23.0->langsmith<1.0.0,>=0.3.45->langchain-core<2.0.0,>=1.0.0->langchain-huggingface) (0.16.0)\n",
      "Requirement already satisfied: annotated-types>=0.6.0 in c:\\users\\hp\\anaconda3\\envs\\genai\\lib\\site-packages (from pydantic<3.0.0,>=2.7.4->langchain-core<2.0.0,>=1.0.0->langchain-huggingface) (0.7.0)\n",
      "Requirement already satisfied: pydantic-core==2.41.4 in c:\\users\\hp\\anaconda3\\envs\\genai\\lib\\site-packages (from pydantic<3.0.0,>=2.7.4->langchain-core<2.0.0,>=1.0.0->langchain-huggingface) (2.41.4)\n",
      "Requirement already satisfied: typing-inspection>=0.4.2 in c:\\users\\hp\\anaconda3\\envs\\genai\\lib\\site-packages (from pydantic<3.0.0,>=2.7.4->langchain-core<2.0.0,>=1.0.0->langchain-huggingface) (0.4.2)\n",
      "Requirement already satisfied: charset_normalizer<4,>=2 in c:\\users\\hp\\anaconda3\\envs\\genai\\lib\\site-packages (from requests->huggingface-hub<1.0.0,>=0.33.4->langchain-huggingface) (3.3.2)\n",
      "Requirement already satisfied: urllib3<3,>=1.21.1 in c:\\users\\hp\\anaconda3\\envs\\genai\\lib\\site-packages (from requests->huggingface-hub<1.0.0,>=0.33.4->langchain-huggingface) (2.5.0)\n",
      "Requirement already satisfied: colorama in c:\\users\\hp\\anaconda3\\envs\\genai\\lib\\site-packages (from tqdm>=4.42.1->huggingface-hub<1.0.0,>=0.33.4->langchain-huggingface) (0.4.6)\n",
      "Requirement already satisfied: exceptiongroup>=1.0.2 in c:\\users\\hp\\anaconda3\\envs\\genai\\lib\\site-packages (from anyio->httpx<1,>=0.23.0->langsmith<1.0.0,>=0.3.45->langchain-core<2.0.0,>=1.0.0->langchain-huggingface) (1.2.0)\n",
      "Requirement already satisfied: sniffio>=1.1 in c:\\users\\hp\\anaconda3\\envs\\genai\\lib\\site-packages (from anyio->httpx<1,>=0.23.0->langsmith<1.0.0,>=0.3.45->langchain-core<2.0.0,>=1.0.0->langchain-huggingface) (1.3.0)\n",
      "Note: you may need to restart the kernel to use updated packages.\n"
     ]
    }
   ],
   "source": [
    "pip install -U langchain-huggingface\n"
   ]
  },
  {
   "cell_type": "code",
   "execution_count": 22,
   "id": "a3336d43-639d-4a04-ad56-952d1b10f770",
   "metadata": {},
   "outputs": [],
   "source": [
    "from langchain_community.document_loaders import TextLoader\n",
    "from langchain_huggingface import HuggingFaceEmbeddings\n",
    "from langchain_community.vectorstores import FAISS\n",
    "from langchain_ollama import OllamaLLM\n",
    "from langchain_text_splitters import RecursiveCharacterTextSplitter\n",
    "from langchain_core.prompts import ChatPromptTemplate\n",
    "from langchain_core.output_parsers import StrOutputParser\n",
    "from langchain_core.runnables import RunnablePassthrough\n"
   ]
  },
  {
   "cell_type": "code",
   "execution_count": 23,
   "id": "0c650938-68c0-445d-97d2-aa8ebe95b65b",
   "metadata": {},
   "outputs": [],
   "source": [
    "# Load your local document\n",
    "loader = TextLoader(r\"AI_Full_Course_Overview.txt\")\n",
    "docs = loader.load()\n",
    "\n",
    "# Split text into smaller chunks\n",
    "text_splitter = RecursiveCharacterTextSplitter(chunk_size=1000, chunk_overlap=200)\n",
    "splits = text_splitter.split_documents(docs)\n"
   ]
  },
  {
   "cell_type": "code",
   "execution_count": 46,
   "id": "8c0fb86c-1e95-4bb6-9585-86e890dceea9",
   "metadata": {},
   "outputs": [],
   "source": [
    "embeddings = HuggingFaceEmbeddings(model_name=\"sentence-transformers/all-MiniLM-L6-v2\")\n",
    "vectorstore = FAISS.from_documents(splits, embedding=embeddings)\n",
    "retriever = vectorstore.as_retriever()\n"
   ]
  },
  {
   "cell_type": "code",
   "execution_count": 24,
   "id": "796bb275-3b5d-4e13-bc75-890ae3bcec17",
   "metadata": {},
   "outputs": [
    {
     "data": {
      "text/plain": [
       "['ChatOllama',\n",
       " 'OllamaEmbeddings',\n",
       " 'OllamaLLM',\n",
       " 'PackageNotFoundError',\n",
       " '__all__',\n",
       " '__builtins__',\n",
       " '__cached__',\n",
       " '__doc__',\n",
       " '__file__',\n",
       " '__loader__',\n",
       " '__name__',\n",
       " '__package__',\n",
       " '__path__',\n",
       " '__spec__',\n",
       " '__version__',\n",
       " '_compat',\n",
       " '_raise_package_not_found_error',\n",
       " '_utils',\n",
       " 'chat_models',\n",
       " 'embeddings',\n",
       " 'llms']"
      ]
     },
     "execution_count": 24,
     "metadata": {},
     "output_type": "execute_result"
    }
   ],
   "source": [
    "import langchain_ollama\n",
    "dir(langchain_ollama)\n",
    "\n"
   ]
  },
  {
   "cell_type": "code",
   "execution_count": 47,
   "id": "ba814d5d-58d0-4b42-9001-2a0cd0f6f76c",
   "metadata": {},
   "outputs": [],
   "source": [
    "from langchain_ollama import ChatOllama\n",
    "\n"
   ]
  },
  {
   "cell_type": "code",
   "execution_count": 81,
   "id": "7f028f4f-2eb1-4c73-ae3b-62a4ff4a9a25",
   "metadata": {},
   "outputs": [],
   "source": [
    "llm = ChatOllama(model=\"gemma3:270m\")\n",
    "# embeddings = OllamaEmbeddings(model=\"gemma3:latest\")"
   ]
  },
  {
   "cell_type": "code",
   "execution_count": 82,
   "id": "ee736cd5-a9ea-41de-bc7d-bbdb13670cde",
   "metadata": {},
   "outputs": [],
   "source": [
    "from langchain_core.prompts import ChatPromptTemplate\n",
    "\n"
   ]
  },
  {
   "cell_type": "code",
   "execution_count": 83,
   "id": "ff9b7cf3-6d74-49f7-a32f-ab388cd204ec",
   "metadata": {},
   "outputs": [],
   "source": [
    "prompt = ChatPromptTemplate.from_template(\"\"\"\n",
    "Use the following context to answer the question:\n",
    "{context}\n",
    "\n",
    "Question: {question}\n",
    "\"\"\")\n"
   ]
  },
  {
   "cell_type": "code",
   "execution_count": 84,
   "id": "f0e022c5-422e-438a-b2f1-a6ba43e08445",
   "metadata": {},
   "outputs": [],
   "source": [
    "rag_chain = (\n",
    "    {\"context\": retriever | (lambda docs: \"\\n\\n\".join([d.page_content for d in docs])),\n",
    "     \"question\": RunnablePassthrough()}\n",
    "    \n",
    "    | prompt\n",
    "    | llm\n",
    "    | StrOutputParser()\n",
    ")\n"
   ]
  },
  {
   "cell_type": "code",
   "execution_count": 85,
   "id": "d5272c47-e691-40bd-913c-046614bd927c",
   "metadata": {},
   "outputs": [
    {
     "name": "stdout",
     "output_type": "stream",
     "text": [
      "The key differences between Machine Learning and Deep Learning lie in their approaches to building and training models, the types of models they are designed to handle, and the types of tasks they are best suited for.\n",
      "\n",
      "*   **Machine Learning:** Focuses on learning patterns and making predictions from data without explicit programming. It involves algorithms that learn from data and make decisions based on those learned patterns.\n",
      "*   **Deep Learning:** Employs artificial neural networks with multiple layers to learn complex representations of data. It is designed to handle large amounts of data and complex tasks with high accuracy.\n"
     ]
    }
   ],
   "source": [
    "query = \"What are the key differences between Machine Learning and Deep Learning?\"\n",
    "response = rag_chain.invoke(query)\n",
    "print(response)"
   ]
  },
  {
   "cell_type": "code",
   "execution_count": 86,
   "id": "0484de49-0198-4e08-8881-b36af95d7e75",
   "metadata": {},
   "outputs": [
    {
     "name": "stdout",
     "output_type": "stream",
     "text": [
      "The Machine Learning section covers topics such as:\n",
      "\n",
      "*   **Programming:** Python, R, TensorFlow, Keras, PyTorch, Scikit-learn, and Pandas.\n",
      "*   **ML/DL:**  The core concepts of supervised, unsupervised, and reinforcement learning, algorithms like Linear Regression, Decision Trees, Random Forest, SVM, KNN, and their applications.\n",
      "*   **Data Visualization & Analysis:** Creating visual insights with Matplotlib, Seaborn, and Plotly.\n",
      "*   **Speech Recognition:** Converting spoken words to text using AI models.\n",
      "*   **AI Ethics:**  Responsible AI usage, bias mitigation, transparency, and privacy.\n",
      "*   **Tools & Frameworks:**  TensorFlow, Keras, PyTorch, Scikit-learn, and NumPy.\n",
      "*   **Data Handling & ETL:** Moving data from raw sources to usable formats.\n",
      "*   **Data Visualization & Analysis:** Creating visual insights with Matplotlib, Seaborn, and Plotly.\n",
      "\n",
      "Therefore, the topics covered in the Machine Learning section are: **Programming, ML/DL, Data Visualization & Analysis, Speech Recognition, AI Ethics, and Tools & Frameworks.**\n"
     ]
    }
   ],
   "source": [
    "query = \"Explain what topics are covered in the Machine Learning section.\"\n",
    "response = rag_chain.invoke(query)\n",
    "print(response)"
   ]
  }
 ],
 "metadata": {
  "kernelspec": {
   "display_name": "Python 3 (ipykernel)",
   "language": "python",
   "name": "python3"
  },
  "language_info": {
   "codemirror_mode": {
    "name": "ipython",
    "version": 3
   },
   "file_extension": ".py",
   "mimetype": "text/x-python",
   "name": "python",
   "nbconvert_exporter": "python",
   "pygments_lexer": "ipython3",
   "version": "3.10.19"
  }
 },
 "nbformat": 4,
 "nbformat_minor": 5
}
